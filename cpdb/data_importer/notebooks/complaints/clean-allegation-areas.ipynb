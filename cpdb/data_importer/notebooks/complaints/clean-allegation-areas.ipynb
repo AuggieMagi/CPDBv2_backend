{
 "cells": [
  {
   "cell_type": "code",
   "execution_count": 89,
   "metadata": {},
   "outputs": [],
   "source": [
    "import json\n",
    "\n",
    "from django.contrib.gis.geos import Point\n",
    "\n",
    "import geocoder\n",
    "import pandas as pd\n",
    "from tqdm import tqdm, tqdm_notebook, tqdm_pandas\n",
    "\n",
    "from data.models import Allegation, Area\n",
    "from data_importer.base.storage import AzureStorage\n",
    "from data_importer.base.cleaner import DataCleaner, strip, remove_whitespace, ZFill"
   ]
  },
  {
   "cell_type": "code",
   "execution_count": 2,
   "metadata": {},
   "outputs": [],
   "source": [
    "storage = AzureStorage(account_name='cpdbv2data', \n",
    "                       account_key='your-key-here',\n",
    "                       share='cleaned-data')\n",
    "import_db = 'import'\n",
    "MAP_BOX_API_KEY = \"pk.eyJ1IjoiaW52aXNpYmxlaW5zdGl0dXRlIiwiYSI6ImNpZ256bXRqMDAwMDBzeGtud3VoZGplNHMifQ.ky2VSGEYU5KritRMArHY-w\""
   ]
  },
  {
   "cell_type": "code",
   "execution_count": 3,
   "metadata": {},
   "outputs": [],
   "source": [
    "crid_to_address_map = {}\n",
    "for cr in Allegation.objects.using(import_db).all():\n",
    "    crid_to_address_map[cr.crid] = cr.address"
   ]
  },
  {
   "cell_type": "markdown",
   "metadata": {},
   "source": [
    "## Read and clean Complaints data"
   ]
  },
  {
   "cell_type": "code",
   "execution_count": 4,
   "metadata": {
    "collapsed": true
   },
   "outputs": [
    {
     "name": "stderr",
     "output_type": "stream",
     "text": [
      "/pyenv/versions/cpdb/lib/python2.7/site-packages/IPython/core/interactiveshell.py:2718: DtypeWarning: Columns (4) have mixed types. Specify dtype option on import or set low_memory=False.\n",
      "  interactivity=interactivity, compiler=compiler, result=result)\n",
      "100%|██████████| 2/2 [00:06<00:00,  2.63s/it]\n"
     ]
    }
   ],
   "source": [
    "df = pd.read_csv(\n",
    "    '/complaints/complaints.csv',\n",
    "    usecols=['CRID', 'Beat']\n",
    ")\n",
    "\n",
    "df = DataCleaner(schema={\n",
    "    'CRID': [strip],\n",
    "    'Beat': [strip, remove_whitespace, ZFill(4)]\n",
    "}).perform(df)\n",
    "\n",
    "df = df.drop_duplicates()"
   ]
  },
  {
   "cell_type": "markdown",
   "metadata": {},
   "source": [
    "#### Add address field"
   ]
  },
  {
   "cell_type": "code",
   "execution_count": 5,
   "metadata": {},
   "outputs": [],
   "source": [
    "df = df.assign(address=df['CRID'].apply(lambda x: crid_to_address_map[x]))"
   ]
  },
  {
   "cell_type": "markdown",
   "metadata": {},
   "source": [
    "## Geocoding address"
   ]
  },
  {
   "cell_type": "code",
   "execution_count": 6,
   "metadata": {
    "scrolled": true
   },
   "outputs": [],
   "source": [
    "def get_centroid(beat):\n",
    "    if pd.isnull(beat):\n",
    "        return None\n",
    "    beat = Area.objects.using(import_db).filter(area_type='beat', name=beat).first()\n",
    "    return beat.polygon.centroid if beat is not None else None"
   ]
  },
  {
   "cell_type": "code",
   "execution_count": 7,
   "metadata": {
    "scrolled": true
   },
   "outputs": [],
   "source": [
    "address_cache = {}\n",
    "\n",
    "def get_address_mapbox_api(address, proximity=None, key=MAP_BOX_API_KEY):\n",
    "    if not proximity:\n",
    "        if address in address_cache:\n",
    "            return address_cache[address]\n",
    "\n",
    "        address_cache[address] = geocoder.mapbox(address, key=key).latlng\n",
    "        return address_cache[address]\n",
    "    else:\n",
    "        return geocoder.mapbox(address, proximity=proximity, key=key).latlng\n",
    "\n",
    "def geocode(address, beat):\n",
    "    centroid = get_centroid(beat)\n",
    "    if address == '':\n",
    "        return centroid\n",
    "    proximity = [centroid.y, centroid.x] if centroid is not None else None\n",
    "    \n",
    "    return get_address_mapbox_api(address, proximity=proximity)"
   ]
  },
  {
   "cell_type": "code",
   "execution_count": 8,
   "metadata": {},
   "outputs": [
    {
     "data": {
      "application/vnd.jupyter.widget-view+json": {
       "model_id": "29aa415724074558b7783c361590685d",
       "version_major": 2,
       "version_minor": 0
      },
      "text/plain": [
       "A Jupyter Widget"
      ]
     },
     "metadata": {},
     "output_type": "display_data"
    },
    {
     "name": "stderr",
     "output_type": "stream",
     "text": [
      "Geocoding address: 100%|██████████| 109339/109339 [8:13:35<00:00,  3.79it/s]  \n"
     ]
    }
   ],
   "source": [
    "tqdm.pandas(tqdm_notebook(), desc='Geocoding address')\n",
    "df = df.assign(geo=df.progress_apply(lambda x: geocode(x['address'], x['Beat']), axis=1))"
   ]
  },
  {
   "cell_type": "markdown",
   "metadata": {},
   "source": [
    "#### Add latitude and longtitude fields"
   ]
  },
  {
   "cell_type": "code",
   "execution_count": 70,
   "metadata": {},
   "outputs": [],
   "source": [
    "df = df.assign(\n",
    "    lat=df.apply(lambda x: None if not x['geo'] else x['geo'][0 if x['address'] != '' else 1], axis=1),\n",
    "    lng=df.apply(lambda x: None if not x['geo'] else x['geo'][1 if x['address'] != '' else 0], axis=1),\n",
    ")"
   ]
  },
  {
   "cell_type": "markdown",
   "metadata": {},
   "source": [
    "#### Write the geocoded data to csv file"
   ]
  },
  {
   "cell_type": "code",
   "execution_count": 88,
   "metadata": {},
   "outputs": [],
   "source": [
    "df.to_csv('allegation_areas.csv')"
   ]
  }
 ],
 "metadata": {
  "kernelspec": {
   "display_name": "Django Shell-Plus",
   "language": "python",
   "name": "django_extensions"
  },
  "language_info": {
   "codemirror_mode": {
    "name": "ipython",
    "version": 2
   },
   "file_extension": ".py",
   "mimetype": "text/x-python",
   "name": "python",
   "nbconvert_exporter": "python",
   "pygments_lexer": "ipython2",
   "version": "2.7.11"
  }
 },
 "nbformat": 4,
 "nbformat_minor": 2
}
